{
 "cells": [
  {
   "cell_type": "code",
   "execution_count": 1,
   "id": "f7fc7c13",
   "metadata": {},
   "outputs": [
    {
     "data": {
      "text/plain": [
       "6"
      ]
     },
     "execution_count": 1,
     "metadata": {},
     "output_type": "execute_result"
    }
   ],
   "source": [
    "d = begin\n",
    "    a = 2\n",
    "    b = 4\n",
    "    a + b\n",
    "end"
   ]
  },
  {
   "cell_type": "code",
   "execution_count": 2,
   "id": "cfcf27a2",
   "metadata": {},
   "outputs": [
    {
     "data": {
      "text/plain": [
       "13"
      ]
     },
     "execution_count": 2,
     "metadata": {},
     "output_type": "execute_result"
    }
   ],
   "source": [
    "d = (a = 4; b = 9; a+b)"
   ]
  },
  {
   "cell_type": "code",
   "execution_count": 3,
   "id": "c11cf397",
   "metadata": {},
   "outputs": [
    {
     "data": {
      "text/plain": [
       "12"
      ]
     },
     "execution_count": 3,
     "metadata": {},
     "output_type": "execute_result"
    }
   ],
   "source": [
    "s =(a = 5;\n",
    "    b = 7;\n",
    "    a + b)"
   ]
  },
  {
   "cell_type": "code",
   "execution_count": 4,
   "id": "7a1a3544",
   "metadata": {},
   "outputs": [
    {
     "data": {
      "text/plain": [
       "10"
      ]
     },
     "execution_count": 4,
     "metadata": {},
     "output_type": "execute_result"
    }
   ],
   "source": [
    "s = begin a=4; b=6; a+b end"
   ]
  },
  {
   "cell_type": "code",
   "execution_count": 5,
   "id": "a09c4fa6",
   "metadata": {},
   "outputs": [
    {
     "ename": "LoadError",
     "evalue": "TypeError: non-boolean (Int64) used in boolean context",
     "output_type": "error",
     "traceback": [
      "TypeError: non-boolean (Int64) used in boolean context",
      "",
      "Stacktrace:",
      " [1] top-level scope",
      "   @ In[5]:1",
      " [2] eval",
      "   @ .\\boot.jl:360 [inlined]",
      " [3] include_string(mapexpr::typeof(REPL.softscope), mod::Module, code::String, filename::String)",
      "   @ Base .\\loading.jl:1116"
     ]
    }
   ],
   "source": [
    "if 3\n",
    "    println(\"I am here\")\n",
    "end "
   ]
  },
  {
   "cell_type": "code",
   "execution_count": 6,
   "id": "857b0106",
   "metadata": {},
   "outputs": [
    {
     "name": "stdout",
     "output_type": "stream",
     "text": [
      "My name is Sourav\n"
     ]
    }
   ],
   "source": [
    "if Bool(1)\n",
    "    println(\"My name is Sourav\")\n",
    "end"
   ]
  },
  {
   "cell_type": "code",
   "execution_count": 7,
   "id": "27bec686",
   "metadata": {},
   "outputs": [
    {
     "data": {
      "text/plain": [
       "\"Lesser\""
      ]
     },
     "execution_count": 7,
     "metadata": {},
     "output_type": "execute_result"
    }
   ],
   "source": [
    "p = 1\n",
    "str = if p > 1\n",
    "    \"Greater\"\n",
    "else\n",
    "    \"Lesser\"\n",
    "end"
   ]
  },
  {
   "cell_type": "code",
   "execution_count": 8,
   "id": "5356a0db",
   "metadata": {},
   "outputs": [
    {
     "data": {
      "text/plain": [
       "\"Lesser\""
      ]
     },
     "execution_count": 8,
     "metadata": {},
     "output_type": "execute_result"
    }
   ],
   "source": [
    "ptr = p > 1 ? \"Greater\" : \"Lesser\""
   ]
  },
  {
   "cell_type": "code",
   "execution_count": 9,
   "id": "e1a3bfb1",
   "metadata": {},
   "outputs": [
    {
     "ename": "LoadError",
     "evalue": "syntax: space required before \"?\" operator",
     "output_type": "error",
     "traceback": [
      "syntax: space required before \"?\" operator",
      "",
      "Stacktrace:",
      " [1] top-level scope",
      "   @ In[9]:1",
      " [2] eval",
      "   @ .\\boot.jl:360 [inlined]",
      " [3] include_string(mapexpr::typeof(REPL.softscope), mod::Module, code::String, filename::String)",
      "   @ Base .\\loading.jl:1116"
     ]
    }
   ],
   "source": [
    "ptr = p > 1? \"Greater\" : \"Lesser\""
   ]
  },
  {
   "cell_type": "code",
   "execution_count": 10,
   "id": "4c5a7306",
   "metadata": {},
   "outputs": [
    {
     "data": {
      "text/plain": [
       "\"seven\""
      ]
     },
     "execution_count": 10,
     "metadata": {},
     "output_type": "execute_result"
    }
   ],
   "source": [
    "value = 12\n",
    "if value == 1\n",
    "    \"three\"\n",
    "elseif value == 4\n",
    "    \"four\"\n",
    "elseif value == 7\n",
    "    \"five\"\n",
    "elseif value == 12\n",
    "    \"seven\"\n",
    "else\n",
    "    \"unknown\"\n",
    "end"
   ]
  },
  {
   "cell_type": "code",
   "execution_count": 11,
   "id": "77fa5231",
   "metadata": {},
   "outputs": [
    {
     "ename": "LoadError",
     "evalue": "syntax: use \"elseif\" instead of \"else if\"",
     "output_type": "error",
     "traceback": [
      "syntax: use \"elseif\" instead of \"else if\"",
      "",
      "Stacktrace:",
      " [1] top-level scope",
      "   @ In[11]:9",
      " [2] eval",
      "   @ .\\boot.jl:360 [inlined]",
      " [3] include_string(mapexpr::typeof(REPL.softscope), mod::Module, code::String, filename::String)",
      "   @ Base .\\loading.jl:1116"
     ]
    }
   ],
   "source": [
    "if value == 6\n",
    "    \"one\"\n",
    "elseif val == 8\n",
    "    \"two\"\n",
    "elseif val == 12\n",
    "    \"three\"\n",
    "elseif val == 16\n",
    "    \"four\"\n",
    "else if val >= 5"
   ]
  },
  {
   "cell_type": "code",
   "execution_count": 12,
   "id": "7968c0e9",
   "metadata": {},
   "outputs": [
    {
     "data": {
      "text/plain": [
       "\"above five\""
      ]
     },
     "execution_count": 12,
     "metadata": {},
     "output_type": "execute_result"
    }
   ],
   "source": [
    "if value == 7\n",
    "    \"one\"\n",
    "elseif value == 5\n",
    "    \"two\"\n",
    "elseif value == 6\n",
    "    \"three\"\n",
    "elseif value == 7\n",
    "    \"four\"\n",
    "else\n",
    "    if value >= 5\n",
    "        \"above five\"\n",
    "    else\n",
    "        \"below five\"\n",
    "    end\n",
    "end"
   ]
  },
  {
   "cell_type": "code",
   "execution_count": 13,
   "id": "67195f04",
   "metadata": {
    "scrolled": true
   },
   "outputs": [
    {
     "data": {
      "text/plain": [
       "210"
      ]
     },
     "execution_count": 13,
     "metadata": {},
     "output_type": "execute_result"
    }
   ],
   "source": [
    "begin\n",
    "    p = 0\n",
    "    q = 20\n",
    "@label loop\n",
    "    p = p + q\n",
    "    q = q - 1\n",
    "    if q > 0\n",
    "        @goto loop\n",
    "    end\n",
    "    p\n",
    "end"
   ]
  },
  {
   "cell_type": "code",
   "execution_count": 14,
   "id": "c127e242",
   "metadata": {},
   "outputs": [
    {
     "data": {
      "text/plain": [
       "210"
      ]
     },
     "execution_count": 14,
     "metadata": {},
     "output_type": "execute_result"
    }
   ],
   "source": [
    "z = 0\n",
    "for i = 1:20\n",
    "    z = z + i\n",
    "end\n",
    "z"
   ]
  },
  {
   "cell_type": "code",
   "execution_count": 17,
   "id": "9b0a1ae5",
   "metadata": {},
   "outputs": [
    {
     "data": {
      "text/plain": [
       "30"
      ]
     },
     "execution_count": 17,
     "metadata": {},
     "output_type": "execute_result"
    }
   ],
   "source": [
    "z = 0;\n",
    "for j = 1:20\n",
    "    z = s + j\n",
    "end\n",
    "z"
   ]
  },
  {
   "cell_type": "code",
   "execution_count": 21,
   "id": "ea460482",
   "metadata": {},
   "outputs": [
    {
     "name": "stdout",
     "output_type": "stream",
     "text": [
      "1\n",
      "5\n",
      "9\n"
     ]
    },
    {
     "data": {
      "text/plain": [
       "15"
      ]
     },
     "execution_count": 21,
     "metadata": {},
     "output_type": "execute_result"
    }
   ],
   "source": [
    "z = 0;\n",
    "for j = 1:4:10\n",
    "    println(j)\n",
    "    z = z + j\n",
    "end\n",
    "z"
   ]
  },
  {
   "cell_type": "code",
   "execution_count": 22,
   "id": "686c8a2e",
   "metadata": {},
   "outputs": [
    {
     "name": "stdout",
     "output_type": "stream",
     "text": [
      "2\n",
      "4\n",
      "5\n",
      "7\n",
      "8\n",
      "10\n"
     ]
    },
    {
     "data": {
      "text/plain": [
       "36"
      ]
     },
     "execution_count": 22,
     "metadata": {},
     "output_type": "execute_result"
    }
   ],
   "source": [
    "z = 0;\n",
    "for j = 2:10\n",
    "    if j % 3 == 0\n",
    "        continue\n",
    "    end\n",
    "    println(j)\n",
    "    z = z + j\n",
    "end\n",
    "z"
   ]
  },
  {
   "cell_type": "code",
   "execution_count": 23,
   "id": "5f9ce545",
   "metadata": {},
   "outputs": [
    {
     "name": "stdout",
     "output_type": "stream",
     "text": [
      "1\n",
      "2\n",
      "3\n",
      "4\n"
     ]
    },
    {
     "data": {
      "text/plain": [
       "10"
      ]
     },
     "execution_count": 23,
     "metadata": {},
     "output_type": "execute_result"
    }
   ],
   "source": [
    "x = 0;\n",
    "for j = 1:10\n",
    "    if j % 5 == 0\n",
    "        break\n",
    "    end\n",
    "    println(j)\n",
    "    x = x + j\n",
    "end\n",
    "x"
   ]
  },
  {
   "cell_type": "code",
   "execution_count": 24,
   "id": "8005bcee",
   "metadata": {},
   "outputs": [
    {
     "name": "stdout",
     "output_type": "stream",
     "text": [
      "5\n",
      "15\n",
      "25\n"
     ]
    }
   ],
   "source": [
    "for j in [5 15 25]\n",
    "    println(j)\n",
    "end"
   ]
  },
  {
   "cell_type": "code",
   "execution_count": 25,
   "id": "03709091",
   "metadata": {},
   "outputs": [
    {
     "name": "stdout",
     "output_type": "stream",
     "text": [
      "(3, 4)\n",
      "(3, 5)\n",
      "(3, 6)\n",
      "(3, 7)\n",
      "(4, 4)\n",
      "(4, 5)\n",
      "(4, 6)\n",
      "(4, 7)\n",
      "(5, 4)\n",
      "(5, 5)\n",
      "(5, 6)\n",
      "(5, 7)\n"
     ]
    }
   ],
   "source": [
    "for i=3:5, j=4:7\n",
    "    println((i, j))\n",
    "end"
   ]
  },
  {
   "cell_type": "code",
   "execution_count": 26,
   "id": "2a18125d",
   "metadata": {},
   "outputs": [
    {
     "name": "stdout",
     "output_type": "stream",
     "text": [
      "(1, 3)\n",
      "(1, 4)\n",
      "(2, 3)\n",
      "(2, 4)\n",
      "(3, 3)\n"
     ]
    }
   ],
   "source": [
    "for p=1:5, q=3:4\n",
    "    println((p, q))\n",
    "    if p == q\n",
    "        break\n",
    "    end\n",
    "end"
   ]
  },
  {
   "cell_type": "code",
   "execution_count": 27,
   "id": "50094fa0",
   "metadata": {},
   "outputs": [
    {
     "name": "stdout",
     "output_type": "stream",
     "text": [
      "(1, 2)\n",
      "(1, 3)\n",
      "(2, 2)\n"
     ]
    }
   ],
   "source": [
    "for x=1:2\n",
    "    for y=2:3\n",
    "        println((x, y))\n",
    "        if x == y\n",
    "            break\n",
    "        end\n",
    "    end\n",
    "end"
   ]
  },
  {
   "cell_type": "code",
   "execution_count": 29,
   "id": "c3c762ad",
   "metadata": {},
   "outputs": [
    {
     "data": {
      "text/plain": [
       "78"
      ]
     },
     "execution_count": 29,
     "metadata": {},
     "output_type": "execute_result"
    }
   ],
   "source": [
    "d, n = 0, 12;\n",
    "while n > 0\n",
    "    d = d + n\n",
    "    n = n - 1\n",
    "end\n",
    "d"
   ]
  },
  {
   "cell_type": "code",
   "execution_count": 31,
   "id": "4717536e",
   "metadata": {},
   "outputs": [
    {
     "name": "stdout",
     "output_type": "stream",
     "text": [
      "DomainError(-2.0, \"sqrt will only return a complex result if called with a complex argument. Try sqrt(Complex(x)).\")\n"
     ]
    }
   ],
   "source": [
    "try\n",
    "    sqrt(-2)\n",
    "catch e\n",
    "    println(e)\n",
    "end"
   ]
  },
  {
   "cell_type": "code",
   "execution_count": 32,
   "id": "50f32fb5",
   "metadata": {},
   "outputs": [
    {
     "ename": "LoadError",
     "evalue": "DomainError with -2.0:\nsqrt will only return a complex result if called with a complex argument. Try sqrt(Complex(x)).",
     "output_type": "error",
     "traceback": [
      "DomainError with -2.0:\nsqrt will only return a complex result if called with a complex argument. Try sqrt(Complex(x)).",
      "",
      "Stacktrace:",
      " [1] throw_complex_domainerror(f::Symbol, x::Float64)",
      "   @ Base.Math .\\math.jl:33",
      " [2] sqrt",
      "   @ .\\math.jl:582 [inlined]",
      " [3] sqrt(x::Int64)",
      "   @ Base.Math .\\math.jl:608",
      " [4] top-level scope",
      "   @ In[32]:1",
      " [5] eval",
      "   @ .\\boot.jl:360 [inlined]",
      " [6] include_string(mapexpr::typeof(REPL.softscope), mod::Module, code::String, filename::String)",
      "   @ Base .\\loading.jl:1116"
     ]
    }
   ],
   "source": [
    "sqrt(-2)"
   ]
  },
  {
   "cell_type": "code",
   "execution_count": 33,
   "id": "62e2a949",
   "metadata": {},
   "outputs": [
    {
     "ename": "LoadError",
     "evalue": "DomainError with -7.0:\nsqrt will only return a complex result if called with a complex argument. Try sqrt(Complex(x)).",
     "output_type": "error",
     "traceback": [
      "DomainError with -7.0:\nsqrt will only return a complex result if called with a complex argument. Try sqrt(Complex(x)).",
      "",
      "Stacktrace:",
      " [1] throw_complex_domainerror(f::Symbol, x::Float64)",
      "   @ Base.Math .\\math.jl:33",
      " [2] sqrt",
      "   @ .\\math.jl:582 [inlined]",
      " [3] sqrt(x::Int64)",
      "   @ Base.Math .\\math.jl:608",
      " [4] top-level scope",
      "   @ In[33]:2",
      " [5] eval",
      "   @ .\\boot.jl:360 [inlined]",
      " [6] include_string(mapexpr::typeof(REPL.softscope), mod::Module, code::String, filename::String)",
      "   @ Base .\\loading.jl:1116"
     ]
    }
   ],
   "source": [
    "try \n",
    "    sqrt(-7)\n",
    "catch e\n",
    "    rethrow()\n",
    "end"
   ]
  },
  {
   "cell_type": "code",
   "execution_count": 34,
   "id": "0d6f147b",
   "metadata": {},
   "outputs": [
    {
     "name": "stdout",
     "output_type": "stream",
     "text": [
      "Int64\n"
     ]
    }
   ],
   "source": [
    "try\n",
    "    throw(4)\n",
    "catch e\n",
    "    println(typeof(e))\n",
    "end"
   ]
  },
  {
   "cell_type": "code",
   "execution_count": 35,
   "id": "230f8da2",
   "metadata": {},
   "outputs": [
    {
     "data": {
      "text/plain": [
       "12-element Vector{Base.StackTraces.StackFrame}:\n",
       " throw_complex_domainerror(f::\u001b[0mSymbol, x::\u001b[0mFloat64) at math.jl:33\n",
       " sqrt at math.jl:582 [inlined]\n",
       " sqrt(x::\u001b[0mInt64) at math.jl:608\n",
       " top-level scope at In[35]:2\n",
       " eval at boot.jl:360 [inlined]\n",
       " include_string(mapexpr::\u001b[0mtypeof(REPL.softscope), mod::\u001b[0mModule, code::\u001b[0mString, filename::\u001b[0mString) at loading.jl:1116\n",
       " softscope_include_string(m::\u001b[0mModule, code::\u001b[0mString, filename::\u001b[0mString) at SoftGlobalScope.jl:65\n",
       " execute_request(socket::\u001b[0mZMQ.Socket, msg::\u001b[0mIJulia.Msg) at execute_request.jl:67\n",
       " #invokelatest#2 at essentials.jl:708 [inlined]\n",
       " invokelatest at essentials.jl:706 [inlined]\n",
       " eventloop(socket::\u001b[0mZMQ.Socket) at eventloop.jl:8\n",
       " (::IJulia.var\"#15#18\")() at task.jl:417"
      ]
     },
     "execution_count": 35,
     "metadata": {},
     "output_type": "execute_result"
    }
   ],
   "source": [
    "try\n",
    "    sqrt(-2)\n",
    "catch e\n",
    "    stacktrace(catch_backtrace())\n",
    "end"
   ]
  }
 ],
 "metadata": {
  "kernelspec": {
   "display_name": "Julia 1.6.7",
   "language": "julia",
   "name": "julia-1.6"
  },
  "language_info": {
   "file_extension": ".jl",
   "mimetype": "application/julia",
   "name": "julia",
   "version": "1.6.7"
  }
 },
 "nbformat": 4,
 "nbformat_minor": 5
}
