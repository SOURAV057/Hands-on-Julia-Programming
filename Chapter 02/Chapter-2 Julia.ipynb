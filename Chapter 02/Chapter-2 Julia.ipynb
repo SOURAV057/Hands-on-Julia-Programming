{
 "cells": [
  {
   "cell_type": "code",
   "execution_count": 1,
   "id": "099838a3",
   "metadata": {},
   "outputs": [
    {
     "data": {
      "text/plain": [
       "1"
      ]
     },
     "execution_count": 1,
     "metadata": {},
     "output_type": "execute_result"
    }
   ],
   "source": [
    "x = 1"
   ]
  },
  {
   "cell_type": "code",
   "execution_count": 2,
   "id": "2b90a391",
   "metadata": {
    "scrolled": true
   },
   "outputs": [
    {
     "ename": "LoadError",
     "evalue": "syntax: \"1\" is not a valid function argument name around In[2]:1",
     "output_type": "error",
     "traceback": [
      "syntax: \"1\" is not a valid function argument name around In[2]:1",
      "",
      "Stacktrace:",
      " [1] top-level scope",
      "   @ In[2]:1",
      " [2] eval",
      "   @ .\\boot.jl:360 [inlined]",
      " [3] include_string(mapexpr::typeof(REPL.softscope), mod::Module, code::String, filename::String)",
      "   @ Base .\\loading.jl:1116"
     ]
    }
   ],
   "source": [
    "1xyz = 2"
   ]
  },
  {
   "cell_type": "code",
   "execution_count": 3,
   "id": "9af404ad",
   "metadata": {},
   "outputs": [
    {
     "data": {
      "text/plain": [
       "30"
      ]
     },
     "execution_count": 3,
     "metadata": {},
     "output_type": "execute_result"
    }
   ],
   "source": [
    "πi = 30"
   ]
  },
  {
   "cell_type": "code",
   "execution_count": 4,
   "id": "fd365401",
   "metadata": {},
   "outputs": [
    {
     "data": {
      "text/plain": [
       "30"
      ]
     },
     "execution_count": 4,
     "metadata": {},
     "output_type": "execute_result"
    }
   ],
   "source": [
    "zπi = 30"
   ]
  },
  {
   "cell_type": "code",
   "execution_count": 5,
   "id": "285fc39a",
   "metadata": {},
   "outputs": [
    {
     "ename": "LoadError",
     "evalue": "syntax: type declarations on global variables are not yet supported",
     "output_type": "error",
     "traceback": [
      "syntax: type declarations on global variables are not yet supported",
      "",
      "Stacktrace:",
      " [1] top-level scope",
      "   @ In[5]:1",
      " [2] eval",
      "   @ .\\boot.jl:360 [inlined]",
      " [3] include_string(mapexpr::typeof(REPL.softscope), mod::Module, code::String, filename::String)",
      "   @ Base .\\loading.jl:1116"
     ]
    }
   ],
   "source": [
    "i :: Int = 1"
   ]
  },
  {
   "cell_type": "code",
   "execution_count": 6,
   "id": "04308895",
   "metadata": {},
   "outputs": [
    {
     "data": {
      "text/plain": [
       "7"
      ]
     },
     "execution_count": 6,
     "metadata": {},
     "output_type": "execute_result"
    }
   ],
   "source": [
    "function f()\n",
    "    i::Int=7\n",
    "    return i\n",
    "end\n",
    "f()"
   ]
  },
  {
   "cell_type": "code",
   "execution_count": 7,
   "id": "af1c13a2",
   "metadata": {},
   "outputs": [
    {
     "ename": "LoadError",
     "evalue": "UndefVarError: i not defined",
     "output_type": "error",
     "traceback": [
      "UndefVarError: i not defined",
      "",
      "Stacktrace:",
      " [1] top-level scope",
      "   @ :0",
      " [2] eval",
      "   @ .\\boot.jl:360 [inlined]",
      " [3] include_string(mapexpr::typeof(REPL.softscope), mod::Module, code::String, filename::String)",
      "   @ Base .\\loading.jl:1116"
     ]
    }
   ],
   "source": [
    "i"
   ]
  },
  {
   "cell_type": "code",
   "execution_count": 8,
   "id": "e8c5be2d",
   "metadata": {},
   "outputs": [
    {
     "data": {
      "text/plain": [
       "f (generic function with 1 method)"
      ]
     },
     "execution_count": 8,
     "metadata": {},
     "output_type": "execute_result"
    }
   ],
   "source": [
    "function f()\n",
    "     i\n",
    "    return i\n",
    "end"
   ]
  },
  {
   "cell_type": "code",
   "execution_count": 9,
   "id": "1f2d0a5c",
   "metadata": {},
   "outputs": [
    {
     "ename": "LoadError",
     "evalue": "UndefVarError: i not defined",
     "output_type": "error",
     "traceback": [
      "UndefVarError: i not defined",
      "",
      "Stacktrace:",
      " [1] f()",
      "   @ Main .\\In[8]:2",
      " [2] top-level scope",
      "   @ In[9]:1",
      " [3] eval",
      "   @ .\\boot.jl:360 [inlined]",
      " [4] include_string(mapexpr::typeof(REPL.softscope), mod::Module, code::String, filename::String)",
      "   @ Base .\\loading.jl:1116"
     ]
    }
   ],
   "source": [
    "f()"
   ]
  },
  {
   "cell_type": "code",
   "execution_count": 10,
   "id": "3307962e",
   "metadata": {},
   "outputs": [
    {
     "data": {
      "text/plain": [
       "4"
      ]
     },
     "execution_count": 10,
     "metadata": {},
     "output_type": "execute_result"
    }
   ],
   "source": [
    "const ICONSTANT=4"
   ]
  },
  {
   "cell_type": "code",
   "execution_count": 11,
   "id": "8eab3f74",
   "metadata": {},
   "outputs": [
    {
     "name": "stderr",
     "output_type": "stream",
     "text": [
      "WARNING: redefinition of constant ICONSTANT. This may fail, cause incorrect answers, or produce other errors.\n"
     ]
    },
    {
     "data": {
      "text/plain": [
       "7"
      ]
     },
     "execution_count": 11,
     "metadata": {},
     "output_type": "execute_result"
    }
   ],
   "source": [
    "ICONSTANT=7"
   ]
  },
  {
   "cell_type": "code",
   "execution_count": 12,
   "id": "2bec0c4b",
   "metadata": {},
   "outputs": [
    {
     "data": {
      "text/plain": [
       "7"
      ]
     },
     "execution_count": 12,
     "metadata": {},
     "output_type": "execute_result"
    }
   ],
   "source": [
    "ICONSTANT"
   ]
  },
  {
   "cell_type": "code",
   "execution_count": 13,
   "id": "ec6bcbf8",
   "metadata": {},
   "outputs": [
    {
     "data": {
      "text/plain": [
       "5"
      ]
     },
     "execution_count": 13,
     "metadata": {},
     "output_type": "execute_result"
    }
   ],
   "source": [
    "5          # Integer"
   ]
  },
  {
   "cell_type": "code",
   "execution_count": 14,
   "id": "e0365528",
   "metadata": {},
   "outputs": [
    {
     "data": {
      "text/plain": [
       "7.0"
      ]
     },
     "execution_count": 14,
     "metadata": {},
     "output_type": "execute_result"
    }
   ],
   "source": [
    "7.0        # Double precision Float (Float64)"
   ]
  },
  {
   "cell_type": "code",
   "execution_count": 15,
   "id": "ea85f18c",
   "metadata": {},
   "outputs": [
    {
     "data": {
      "text/plain": [
       "7.0f0"
      ]
     },
     "execution_count": 15,
     "metadata": {},
     "output_type": "execute_result"
    }
   ],
   "source": [
    "7f0        # Single precision Float (Float32)"
   ]
  },
  {
   "cell_type": "code",
   "execution_count": 16,
   "id": "8505d335",
   "metadata": {},
   "outputs": [
    {
     "data": {
      "text/plain": [
       "\"sourav\""
      ]
     },
     "execution_count": 16,
     "metadata": {},
     "output_type": "execute_result"
    }
   ],
   "source": [
    "\"sourav\"   # String"
   ]
  },
  {
   "cell_type": "code",
   "execution_count": 17,
   "id": "8ecf8c2f",
   "metadata": {},
   "outputs": [
    {
     "data": {
      "text/plain": [
       "'s': ASCII/Unicode U+0073 (category Ll: Letter, lowercase)"
      ]
     },
     "execution_count": 17,
     "metadata": {},
     "output_type": "execute_result"
    }
   ],
   "source": [
    "'s'        # Char"
   ]
  },
  {
   "cell_type": "code",
   "execution_count": 18,
   "id": "cf98e832",
   "metadata": {},
   "outputs": [
    {
     "data": {
      "text/plain": [
       "(2, 1)"
      ]
     },
     "execution_count": 18,
     "metadata": {},
     "output_type": "execute_result"
    }
   ],
   "source": [
    "a = 1\n",
    "b = 2\n",
    "a, b = b, a"
   ]
  },
  {
   "cell_type": "code",
   "execution_count": 19,
   "id": "aba50451",
   "metadata": {},
   "outputs": [
    {
     "data": {
      "text/plain": [
       "1"
      ]
     },
     "execution_count": 19,
     "metadata": {},
     "output_type": "execute_result"
    }
   ],
   "source": [
    "b"
   ]
  },
  {
   "cell_type": "code",
   "execution_count": 20,
   "id": "79f8646c",
   "metadata": {},
   "outputs": [
    {
     "data": {
      "text/plain": [
       "2"
      ]
     },
     "execution_count": 20,
     "metadata": {},
     "output_type": "execute_result"
    }
   ],
   "source": [
    "a"
   ]
  },
  {
   "cell_type": "code",
   "execution_count": 21,
   "id": "0c3559d5",
   "metadata": {},
   "outputs": [
    {
     "data": {
      "text/plain": [
       "(1, 2)"
      ]
     },
     "execution_count": 21,
     "metadata": {},
     "output_type": "execute_result"
    }
   ],
   "source": [
    "(1,2)"
   ]
  },
  {
   "cell_type": "code",
   "execution_count": 22,
   "id": "c877e634",
   "metadata": {},
   "outputs": [
    {
     "data": {
      "text/plain": [
       "(3, 4)"
      ]
     },
     "execution_count": 22,
     "metadata": {},
     "output_type": "execute_result"
    }
   ],
   "source": [
    "a = (3, 4)"
   ]
  },
  {
   "cell_type": "code",
   "execution_count": 23,
   "id": "4b69922f",
   "metadata": {},
   "outputs": [
    {
     "data": {
      "text/plain": [
       "Tuple{Int64, Int64}"
      ]
     },
     "execution_count": 23,
     "metadata": {},
     "output_type": "execute_result"
    }
   ],
   "source": [
    "typeof(a)"
   ]
  },
  {
   "cell_type": "code",
   "execution_count": 24,
   "id": "0b86375e",
   "metadata": {},
   "outputs": [
    {
     "data": {
      "text/plain": [
       "3"
      ]
     },
     "execution_count": 24,
     "metadata": {},
     "output_type": "execute_result"
    }
   ],
   "source": [
    "a[1]"
   ]
  },
  {
   "cell_type": "code",
   "execution_count": 25,
   "id": "141866f5",
   "metadata": {},
   "outputs": [
    {
     "ename": "LoadError",
     "evalue": "MethodError: no method matching setindex!(::Tuple{Int64, Int64}, ::Int64, ::Int64)",
     "output_type": "error",
     "traceback": [
      "MethodError: no method matching setindex!(::Tuple{Int64, Int64}, ::Int64, ::Int64)",
      "",
      "Stacktrace:",
      " [1] top-level scope",
      "   @ In[25]:1",
      " [2] eval",
      "   @ .\\boot.jl:360 [inlined]",
      " [3] include_string(mapexpr::typeof(REPL.softscope), mod::Module, code::String, filename::String)",
      "   @ Base .\\loading.jl:1116"
     ]
    }
   ],
   "source": [
    "a[1] = 7"
   ]
  },
  {
   "cell_type": "code",
   "execution_count": 26,
   "id": "989a3698",
   "metadata": {},
   "outputs": [
    {
     "data": {
      "text/plain": [
       "(1, 2)"
      ]
     },
     "execution_count": 26,
     "metadata": {},
     "output_type": "execute_result"
    }
   ],
   "source": [
    "i, j = 1, 2"
   ]
  },
  {
   "cell_type": "code",
   "execution_count": 27,
   "id": "aa08069e",
   "metadata": {},
   "outputs": [
    {
     "data": {
      "text/plain": [
       "1"
      ]
     },
     "execution_count": 27,
     "metadata": {},
     "output_type": "execute_result"
    }
   ],
   "source": [
    "i"
   ]
  },
  {
   "cell_type": "code",
   "execution_count": 28,
   "id": "116eb91e",
   "metadata": {},
   "outputs": [
    {
     "data": {
      "text/plain": [
       "2"
      ]
     },
     "execution_count": 28,
     "metadata": {},
     "output_type": "execute_result"
    }
   ],
   "source": [
    "j"
   ]
  },
  {
   "cell_type": "code",
   "execution_count": 31,
   "id": "44178e2a",
   "metadata": {},
   "outputs": [
    {
     "data": {
      "text/plain": [
       "(1, 2)"
      ]
     },
     "execution_count": 31,
     "metadata": {},
     "output_type": "execute_result"
    }
   ],
   "source": [
    "i = 1, 2 #This i is a Tuple"
   ]
  },
  {
   "cell_type": "code",
   "execution_count": 32,
   "id": "fe1345e1",
   "metadata": {},
   "outputs": [
    {
     "data": {
      "text/plain": [
       "(1, 2)"
      ]
     },
     "execution_count": 32,
     "metadata": {},
     "output_type": "execute_result"
    }
   ],
   "source": [
    "i, = 1, 2"
   ]
  },
  {
   "cell_type": "code",
   "execution_count": 33,
   "id": "d4a449bf",
   "metadata": {},
   "outputs": [
    {
     "data": {
      "text/plain": [
       "1"
      ]
     },
     "execution_count": 33,
     "metadata": {},
     "output_type": "execute_result"
    }
   ],
   "source": [
    "i"
   ]
  },
  {
   "cell_type": "code",
   "execution_count": 34,
   "id": "2935508f",
   "metadata": {},
   "outputs": [
    {
     "data": {
      "text/plain": [
       "(2, 5, 8)"
      ]
     },
     "execution_count": 34,
     "metadata": {},
     "output_type": "execute_result"
    }
   ],
   "source": [
    "i, j = 2, 5, 8"
   ]
  },
  {
   "cell_type": "code",
   "execution_count": 35,
   "id": "9554290d",
   "metadata": {},
   "outputs": [
    {
     "data": {
      "text/plain": [
       "2"
      ]
     },
     "execution_count": 35,
     "metadata": {},
     "output_type": "execute_result"
    }
   ],
   "source": [
    "i"
   ]
  },
  {
   "cell_type": "code",
   "execution_count": 36,
   "id": "265f6304",
   "metadata": {},
   "outputs": [
    {
     "data": {
      "text/plain": [
       "5"
      ]
     },
     "execution_count": 36,
     "metadata": {},
     "output_type": "execute_result"
    }
   ],
   "source": [
    "j"
   ]
  },
  {
   "cell_type": "code",
   "execution_count": 37,
   "id": "f53af102",
   "metadata": {},
   "outputs": [
    {
     "data": {
      "text/plain": [
       "Nothing"
      ]
     },
     "execution_count": 37,
     "metadata": {},
     "output_type": "execute_result"
    }
   ],
   "source": [
    "typeof(nothing)"
   ]
  },
  {
   "cell_type": "code",
   "execution_count": 38,
   "id": "a795e9f9",
   "metadata": {},
   "outputs": [
    {
     "data": {
      "text/plain": [
       "Nothing"
      ]
     },
     "execution_count": 38,
     "metadata": {},
     "output_type": "execute_result"
    }
   ],
   "source": [
    "z = nothing\n",
    "j = 5\n",
    "if j < 5\n",
    "    z = 5\n",
    "end\n",
    "5\n",
    "typeof(z)"
   ]
  },
  {
   "cell_type": "code",
   "execution_count": 39,
   "id": "df49ea13",
   "metadata": {},
   "outputs": [
    {
     "data": {
      "text/plain": [
       "Int64"
      ]
     },
     "execution_count": 39,
     "metadata": {},
     "output_type": "execute_result"
    }
   ],
   "source": [
    "typeof(5)"
   ]
  },
  {
   "cell_type": "code",
   "execution_count": 42,
   "id": "e0bca73e",
   "metadata": {},
   "outputs": [
    {
     "data": {
      "text/plain": [
       "(UInt8, UInt8, UInt8)"
      ]
     },
     "execution_count": 42,
     "metadata": {},
     "output_type": "execute_result"
    }
   ],
   "source": [
    "typeof(0b1), typeof(0o7), typeof(0xff)"
   ]
  },
  {
   "cell_type": "code",
   "execution_count": 43,
   "id": "a4362b4f",
   "metadata": {},
   "outputs": [
    {
     "data": {
      "text/plain": [
       "(UInt8, UInt16, UInt32, UInt64, UInt128)"
      ]
     },
     "execution_count": 43,
     "metadata": {},
     "output_type": "execute_result"
    }
   ],
   "source": [
    "typeof(0xf), typeof(0xfff), typeof(0xfffff), typeof(0xfffffffff), typeof(0xfffffffffffffffff)"
   ]
  },
  {
   "cell_type": "code",
   "execution_count": 44,
   "id": "7cd7eab0",
   "metadata": {},
   "outputs": [
    {
     "data": {
      "text/plain": [
       "(Float64, Float64, Float64)"
      ]
     },
     "execution_count": 44,
     "metadata": {},
     "output_type": "execute_result"
    }
   ],
   "source": [
    "typeof(1.0), typeof(1e0), typeof(1.e4)"
   ]
  },
  {
   "cell_type": "code",
   "execution_count": 45,
   "id": "3169d10c",
   "metadata": {},
   "outputs": [
    {
     "data": {
      "text/plain": [
       "(Float32, Float32, Float32)"
      ]
     },
     "execution_count": 45,
     "metadata": {},
     "output_type": "execute_result"
    }
   ],
   "source": [
    "typeof(1.0f0), typeof(1f-6), typeof(1.f4)"
   ]
  },
  {
   "cell_type": "code",
   "execution_count": 46,
   "id": "d1bde13a",
   "metadata": {},
   "outputs": [],
   "source": [
    "abstract type MyAbstractType end\n",
    "struct MyConcreteType <: MyAbstractType\n",
    "    member\n",
    "end"
   ]
  },
  {
   "cell_type": "code",
   "execution_count": 47,
   "id": "4e8a58e2",
   "metadata": {},
   "outputs": [
    {
     "data": {
      "text/plain": [
       "MyConcreteType(7)"
      ]
     },
     "execution_count": 47,
     "metadata": {},
     "output_type": "execute_result"
    }
   ],
   "source": [
    "z = MyConcreteType(7)"
   ]
  },
  {
   "cell_type": "code",
   "execution_count": 48,
   "id": "f11b45f9",
   "metadata": {},
   "outputs": [
    {
     "data": {
      "text/plain": [
       "true"
      ]
     },
     "execution_count": 48,
     "metadata": {},
     "output_type": "execute_result"
    }
   ],
   "source": [
    "z isa MyAbstractType"
   ]
  },
  {
   "cell_type": "code",
   "execution_count": 49,
   "id": "8aedf98c",
   "metadata": {},
   "outputs": [
    {
     "ename": "LoadError",
     "evalue": "InexactError: UInt32(0.6)",
     "output_type": "error",
     "traceback": [
      "InexactError: UInt32(0.6)",
      "",
      "Stacktrace:",
      " [1] UInt32(x::Float32)",
      "   @ Base .\\float.jl:702",
      " [2] top-level scope",
      "   @ In[49]:1",
      " [3] eval",
      "   @ .\\boot.jl:360 [inlined]",
      " [4] include_string(mapexpr::typeof(REPL.softscope), mod::Module, code::String, filename::String)",
      "   @ Base .\\loading.jl:1116"
     ]
    }
   ],
   "source": [
    "UInt32(6f-1)"
   ]
  },
  {
   "cell_type": "code",
   "execution_count": 50,
   "id": "0a75ff13",
   "metadata": {},
   "outputs": [],
   "source": [
    "primitive type MyType1 40 end"
   ]
  },
  {
   "cell_type": "code",
   "execution_count": 52,
   "id": "64f4888e",
   "metadata": {},
   "outputs": [
    {
     "ename": "LoadError",
     "evalue": "invalid number of bits in primitive type MyType2",
     "output_type": "error",
     "traceback": [
      "invalid number of bits in primitive type MyType2",
      "",
      "Stacktrace:",
      " [1] top-level scope",
      "   @ In[52]:1",
      " [2] eval",
      "   @ .\\boot.jl:360 [inlined]",
      " [3] include_string(mapexpr::typeof(REPL.softscope), mod::Module, code::String, filename::String)",
      "   @ Base .\\loading.jl:1116"
     ]
    }
   ],
   "source": [
    "primitive type MyType2 4 end"
   ]
  },
  {
   "cell_type": "code",
   "execution_count": 53,
   "id": "637d9eba",
   "metadata": {},
   "outputs": [
    {
     "data": {
      "text/plain": [
       "20"
      ]
     },
     "execution_count": 53,
     "metadata": {},
     "output_type": "execute_result"
    }
   ],
   "source": [
    "x = 20"
   ]
  },
  {
   "cell_type": "code",
   "execution_count": 54,
   "id": "42db3f68",
   "metadata": {},
   "outputs": [
    {
     "data": {
      "text/plain": [
       "true"
      ]
     },
     "execution_count": 54,
     "metadata": {},
     "output_type": "execute_result"
    }
   ],
   "source": [
    "isbits(x)"
   ]
  },
  {
   "cell_type": "code",
   "execution_count": 55,
   "id": "07bf7315",
   "metadata": {},
   "outputs": [
    {
     "data": {
      "text/plain": [
       "true"
      ]
     },
     "execution_count": 55,
     "metadata": {},
     "output_type": "execute_result"
    }
   ],
   "source": [
    "isbitstype(Int)"
   ]
  },
  {
   "cell_type": "code",
   "execution_count": 56,
   "id": "bc1d1c18",
   "metadata": {},
   "outputs": [],
   "source": [
    "struct Rectangle\n",
    "    h1::Float64\n",
    "    w1::Float64\n",
    "end"
   ]
  },
  {
   "cell_type": "code",
   "execution_count": 57,
   "id": "a36e54ad",
   "metadata": {},
   "outputs": [
    {
     "data": {
      "text/plain": [
       "Rectangle(10.0, 20.0)"
      ]
     },
     "execution_count": 57,
     "metadata": {},
     "output_type": "execute_result"
    }
   ],
   "source": [
    "R = Rectangle(10.0, 20.0)"
   ]
  },
  {
   "cell_type": "code",
   "execution_count": 58,
   "id": "5fba8a81",
   "metadata": {},
   "outputs": [],
   "source": [
    "mutable struct MRectangle\n",
    "    h1::Float64\n",
    "    w1::Float64\n",
    "end"
   ]
  },
  {
   "cell_type": "code",
   "execution_count": 63,
   "id": "9996cb6e",
   "metadata": {
    "scrolled": true
   },
   "outputs": [
    {
     "data": {
      "text/plain": [
       "MRectangle(30.0, 50.0)"
      ]
     },
     "execution_count": 63,
     "metadata": {},
     "output_type": "execute_result"
    }
   ],
   "source": [
    "pr = MRectangle(30.0, 50.0)"
   ]
  },
  {
   "cell_type": "code",
   "execution_count": 64,
   "id": "a50a57b3",
   "metadata": {},
   "outputs": [
    {
     "data": {
      "text/plain": [
       "17.0"
      ]
     },
     "execution_count": 64,
     "metadata": {},
     "output_type": "execute_result"
    }
   ],
   "source": [
    "pr.h1 = 17.0"
   ]
  },
  {
   "cell_type": "code",
   "execution_count": 65,
   "id": "226bba9b",
   "metadata": {},
   "outputs": [
    {
     "data": {
      "text/plain": [
       "MRectangle(17.0, 50.0)"
      ]
     },
     "execution_count": 65,
     "metadata": {},
     "output_type": "execute_result"
    }
   ],
   "source": [
    "pr"
   ]
  },
  {
   "cell_type": "code",
   "execution_count": 66,
   "id": "d556c1b9",
   "metadata": {},
   "outputs": [],
   "source": [
    "abstract type Shape end\n",
    "struct Rectangle1 <: Shape\n",
    "    w1::Float64\n",
    "    h1::Float64\n",
    "end\n",
    "struct Square <: Shape\n",
    "    l::Float64\n",
    "end"
   ]
  },
  {
   "cell_type": "code",
   "execution_count": 68,
   "id": "94690666",
   "metadata": {},
   "outputs": [],
   "source": [
    "mutable struct Z\n",
    "    member\n",
    "end"
   ]
  },
  {
   "cell_type": "code",
   "execution_count": 70,
   "id": "8a9d82c6",
   "metadata": {},
   "outputs": [
    {
     "data": {
      "text/plain": [
       "Z(5)"
      ]
     },
     "execution_count": 70,
     "metadata": {},
     "output_type": "execute_result"
    }
   ],
   "source": [
    "x = Z(5)"
   ]
  },
  {
   "cell_type": "code",
   "execution_count": 71,
   "id": "4297457f",
   "metadata": {},
   "outputs": [
    {
     "data": {
      "text/plain": [
       "Int64"
      ]
     },
     "execution_count": 71,
     "metadata": {},
     "output_type": "execute_result"
    }
   ],
   "source": [
    "typeof(z.member)"
   ]
  },
  {
   "cell_type": "code",
   "execution_count": 72,
   "id": "9c758481",
   "metadata": {},
   "outputs": [
    {
     "data": {
      "text/plain": [
       "Z(\"String\")"
      ]
     },
     "execution_count": 72,
     "metadata": {},
     "output_type": "execute_result"
    }
   ],
   "source": [
    "x1 = Z(\"String\")"
   ]
  },
  {
   "cell_type": "code",
   "execution_count": 73,
   "id": "139735e8",
   "metadata": {},
   "outputs": [
    {
     "data": {
      "text/plain": [
       "String"
      ]
     },
     "execution_count": 73,
     "metadata": {},
     "output_type": "execute_result"
    }
   ],
   "source": [
    "typeof(x1.member)"
   ]
  },
  {
   "cell_type": "code",
   "execution_count": 75,
   "id": "07a43a57",
   "metadata": {},
   "outputs": [
    {
     "data": {
      "text/plain": [
       "\"String\""
      ]
     },
     "execution_count": 75,
     "metadata": {},
     "output_type": "execute_result"
    }
   ],
   "source": [
    "x1.member = \"String\""
   ]
  },
  {
   "cell_type": "code",
   "execution_count": 76,
   "id": "8fa8c342",
   "metadata": {},
   "outputs": [
    {
     "data": {
      "text/plain": [
       "String"
      ]
     },
     "execution_count": 76,
     "metadata": {},
     "output_type": "execute_result"
    }
   ],
   "source": [
    "typeof(x1.member)"
   ]
  },
  {
   "cell_type": "code",
   "execution_count": 77,
   "id": "6bd3cd50",
   "metadata": {},
   "outputs": [
    {
     "ename": "LoadError",
     "evalue": "TypeError: in Rational, in T, expected T<:Integer, got Type{Any}",
     "output_type": "error",
     "traceback": [
      "TypeError: in Rational, in T, expected T<:Integer, got Type{Any}",
      "",
      "Stacktrace:",
      " [1] top-level scope",
      "   @ In[77]:1",
      " [2] eval",
      "   @ .\\boot.jl:360 [inlined]",
      " [3] include_string(mapexpr::typeof(REPL.softscope), mod::Module, code::String, filename::String)",
      "   @ Base .\\loading.jl:1116"
     ]
    }
   ],
   "source": [
    "Rational{Any}"
   ]
  },
  {
   "cell_type": "code",
   "execution_count": 79,
   "id": "66eda3d7",
   "metadata": {},
   "outputs": [
    {
     "data": {
      "text/plain": [
       "true"
      ]
     },
     "execution_count": 79,
     "metadata": {},
     "output_type": "execute_result"
    }
   ],
   "source": [
    "Rational{Int64} <: Rational"
   ]
  },
  {
   "cell_type": "code",
   "execution_count": 80,
   "id": "59796a2a",
   "metadata": {},
   "outputs": [
    {
     "data": {
      "text/plain": [
       "false"
      ]
     },
     "execution_count": 80,
     "metadata": {},
     "output_type": "execute_result"
    }
   ],
   "source": [
    "Rational{Int64} <: Rational{Integer}"
   ]
  },
  {
   "cell_type": "code",
   "execution_count": 81,
   "id": "5d9bc35e",
   "metadata": {},
   "outputs": [],
   "source": [
    "abstract type ShapeParametric{T<:AbstractFloat} end"
   ]
  },
  {
   "cell_type": "code",
   "execution_count": 82,
   "id": "899da7e2",
   "metadata": {},
   "outputs": [],
   "source": [
    "struct RectangleParametric{T<:AbstractFloat} <: ShapeParametric{T}\n",
    "     w1::T\n",
    "     h1::T\n",
    "end\n",
    "struct SquareParametric{T<:AbstractFloat} <: ShapeParametric{T}\n",
    "    s::T\n",
    "end"
   ]
  },
  {
   "cell_type": "code",
   "execution_count": 85,
   "id": "6fd5537b",
   "metadata": {},
   "outputs": [
    {
     "data": {
      "text/plain": [
       "Point{Float32, 4}(Float32[1.0, 2.0])"
      ]
     },
     "execution_count": 85,
     "metadata": {},
     "output_type": "execute_result"
    }
   ],
   "source": [
    "struct Point{T<:AbstractFloat, N}\n",
    "    x::Vector{T}\n",
    "end\n",
    "z = Point{Float32, 4}([1f0, 2f0])"
   ]
  },
  {
   "cell_type": "code",
   "execution_count": 86,
   "id": "80d96d9c",
   "metadata": {},
   "outputs": [
    {
     "data": {
      "text/plain": [
       "Rational{Int64}"
      ]
     },
     "execution_count": 86,
     "metadata": {},
     "output_type": "execute_result"
    }
   ],
   "source": [
    "a = 4//6\n",
    "typeof(a)"
   ]
  },
  {
   "cell_type": "code",
   "execution_count": 87,
   "id": "f82a542b",
   "metadata": {},
   "outputs": [
    {
     "data": {
      "text/plain": [
       "DataType"
      ]
     },
     "execution_count": 87,
     "metadata": {},
     "output_type": "execute_result"
    }
   ],
   "source": [
    "typeof(Int)"
   ]
  },
  {
   "cell_type": "code",
   "execution_count": 88,
   "id": "0d7296bf",
   "metadata": {},
   "outputs": [
    {
     "data": {
      "text/plain": [
       "DataType"
      ]
     },
     "execution_count": 88,
     "metadata": {},
     "output_type": "execute_result"
    }
   ],
   "source": [
    "typeof(Rational{Int})"
   ]
  },
  {
   "cell_type": "code",
   "execution_count": 89,
   "id": "98945f20",
   "metadata": {},
   "outputs": [
    {
     "data": {
      "text/plain": [
       "true"
      ]
     },
     "execution_count": 89,
     "metadata": {},
     "output_type": "execute_result"
    }
   ],
   "source": [
    "isa(3, Number)"
   ]
  },
  {
   "cell_type": "code",
   "execution_count": 90,
   "id": "e06789af",
   "metadata": {},
   "outputs": [
    {
     "data": {
      "text/plain": [
       "false"
      ]
     },
     "execution_count": 90,
     "metadata": {},
     "output_type": "execute_result"
    }
   ],
   "source": [
    "isa(5, Matrix)"
   ]
  },
  {
   "cell_type": "code",
   "execution_count": 91,
   "id": "cd6e14d6",
   "metadata": {},
   "outputs": [
    {
     "data": {
      "text/plain": [
       "true"
      ]
     },
     "execution_count": 91,
     "metadata": {},
     "output_type": "execute_result"
    }
   ],
   "source": [
    "isa(7, Int)"
   ]
  },
  {
   "cell_type": "code",
   "execution_count": 92,
   "id": "0a9fcc36",
   "metadata": {},
   "outputs": [
    {
     "data": {
      "text/plain": [
       "true"
      ]
     },
     "execution_count": 92,
     "metadata": {},
     "output_type": "execute_result"
    }
   ],
   "source": [
    "10 isa Number"
   ]
  },
  {
   "cell_type": "code",
   "execution_count": 93,
   "id": "ce02693e",
   "metadata": {},
   "outputs": [
    {
     "data": {
      "text/plain": [
       "Signed"
      ]
     },
     "execution_count": 93,
     "metadata": {},
     "output_type": "execute_result"
    }
   ],
   "source": [
    "supertype(Int32)"
   ]
  },
  {
   "cell_type": "code",
   "execution_count": 94,
   "id": "94a91171",
   "metadata": {},
   "outputs": [
    {
     "data": {
      "text/plain": [
       "true"
      ]
     },
     "execution_count": 94,
     "metadata": {},
     "output_type": "execute_result"
    }
   ],
   "source": [
    "Int32 <: Integer"
   ]
  },
  {
   "cell_type": "code",
   "execution_count": 95,
   "id": "f51acbc5",
   "metadata": {},
   "outputs": [
    {
     "data": {
      "text/plain": [
       "false"
      ]
     },
     "execution_count": 95,
     "metadata": {},
     "output_type": "execute_result"
    }
   ],
   "source": [
    "Int32 <: AbstractFloat"
   ]
  },
  {
   "cell_type": "code",
   "execution_count": 96,
   "id": "c3166981",
   "metadata": {},
   "outputs": [
    {
     "data": {
      "text/plain": [
       "true"
      ]
     },
     "execution_count": 96,
     "metadata": {},
     "output_type": "execute_result"
    }
   ],
   "source": [
    "Int32 <: Real"
   ]
  },
  {
   "cell_type": "code",
   "execution_count": 97,
   "id": "d390e763",
   "metadata": {},
   "outputs": [
    {
     "data": {
      "text/plain": [
       "true"
      ]
     },
     "execution_count": 97,
     "metadata": {},
     "output_type": "execute_result"
    }
   ],
   "source": [
    "Int32 <: Signed"
   ]
  },
  {
   "cell_type": "code",
   "execution_count": 99,
   "id": "3921b04a",
   "metadata": {},
   "outputs": [
    {
     "data": {
      "text/plain": [
       "ZZ(3, 7.0)"
      ]
     },
     "execution_count": 99,
     "metadata": {},
     "output_type": "execute_result"
    }
   ],
   "source": [
    "struct ZZ\n",
    "    y1::Int32\n",
    "    y2::Float64\n",
    "end\n",
    "y = ZZ(3, 7)"
   ]
  },
  {
   "cell_type": "code",
   "execution_count": 100,
   "id": "dde0c5ca",
   "metadata": {},
   "outputs": [],
   "source": [
    "y;"
   ]
  },
  {
   "cell_type": "code",
   "execution_count": 101,
   "id": "28d145d7",
   "metadata": {},
   "outputs": [
    {
     "data": {
      "text/plain": [
       "ZZ(3, 7.0)"
      ]
     },
     "execution_count": 101,
     "metadata": {},
     "output_type": "execute_result"
    }
   ],
   "source": [
    "y"
   ]
  },
  {
   "cell_type": "code",
   "execution_count": 102,
   "id": "71d2c359",
   "metadata": {},
   "outputs": [
    {
     "data": {
      "text/plain": [
       "2.0"
      ]
     },
     "execution_count": 102,
     "metadata": {},
     "output_type": "execute_result"
    }
   ],
   "source": [
    "x = 2.0"
   ]
  },
  {
   "cell_type": "code",
   "execution_count": 103,
   "id": "71b057af",
   "metadata": {},
   "outputs": [
    {
     "data": {
      "text/plain": [
       "2.0"
      ]
     },
     "execution_count": 103,
     "metadata": {},
     "output_type": "execute_result"
    }
   ],
   "source": [
    "y;x"
   ]
  },
  {
   "cell_type": "code",
   "execution_count": 104,
   "id": "dd09be1e",
   "metadata": {},
   "outputs": [
    {
     "data": {
      "text/plain": [
       "ZZ(3, 7.0)"
      ]
     },
     "execution_count": 104,
     "metadata": {},
     "output_type": "execute_result"
    }
   ],
   "source": [
    "y"
   ]
  },
  {
   "cell_type": "code",
   "execution_count": 105,
   "id": "baa0162f",
   "metadata": {},
   "outputs": [],
   "source": [
    "y;"
   ]
  },
  {
   "cell_type": "code",
   "execution_count": 106,
   "id": "8d8a0db1",
   "metadata": {},
   "outputs": [],
   "source": [
    "y; nothing"
   ]
  },
  {
   "cell_type": "code",
   "execution_count": 107,
   "id": "16325274",
   "metadata": {},
   "outputs": [
    {
     "data": {
      "text/plain": [
       "ZZZ(2, 8.0)"
      ]
     },
     "execution_count": 107,
     "metadata": {},
     "output_type": "execute_result"
    }
   ],
   "source": [
    "struct ZZZ\n",
    "    v1::Int32\n",
    "    v2::Float64\n",
    "end\n",
    "a = ZZZ(2, 8)"
   ]
  },
  {
   "cell_type": "code",
   "execution_count": 116,
   "id": "55ff57b9",
   "metadata": {},
   "outputs": [],
   "source": [
    "function Base.show(io::IO, a::ZZZ)\n",
    "    println(io, \"v1: \", a.v1, \" v2: \", a.v2)\n",
    "end"
   ]
  },
  {
   "cell_type": "code",
   "execution_count": 117,
   "id": "73fbea70",
   "metadata": {},
   "outputs": [
    {
     "data": {
      "text/plain": [
       "v1: 2 v2: 8.0\n"
      ]
     },
     "execution_count": 117,
     "metadata": {},
     "output_type": "execute_result"
    }
   ],
   "source": [
    "a"
   ]
  },
  {
   "cell_type": "code",
   "execution_count": 118,
   "id": "a920e598",
   "metadata": {},
   "outputs": [
    {
     "name": "stdout",
     "output_type": "stream",
     "text": [
      "v1: 2 v2: 8.0\n"
     ]
    }
   ],
   "source": [
    "print(a)"
   ]
  },
  {
   "cell_type": "code",
   "execution_count": 119,
   "id": "c4fcd9e0",
   "metadata": {},
   "outputs": [
    {
     "data": {
      "text/plain": [
       "\"v1: 2 v2: 8.0\\n\""
      ]
     },
     "execution_count": 119,
     "metadata": {},
     "output_type": "execute_result"
    }
   ],
   "source": [
    "string(a)"
   ]
  }
 ],
 "metadata": {
  "kernelspec": {
   "display_name": "Julia 1.6.7",
   "language": "julia",
   "name": "julia-1.6"
  },
  "language_info": {
   "file_extension": ".jl",
   "mimetype": "application/julia",
   "name": "julia",
   "version": "1.6.7"
  }
 },
 "nbformat": 4,
 "nbformat_minor": 5
}
